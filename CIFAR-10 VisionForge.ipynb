{
 "cells": [
  {
   "cell_type": "code",
   "execution_count": 89,
   "metadata": {
    "colab": {
     "base_uri": "https://localhost:8080/"
    },
    "id": "Ojobp1O5WUjZ",
    "outputId": "e1b1371e-df9c-444c-b0c6-0fec82fe11d8"
   },
   "outputs": [
    {
     "name": "stdout",
     "output_type": "stream",
     "text": [
      "Using cuda.\n"
     ]
    }
   ],
   "source": [
    "import matplotlib.pyplot as plt\n",
    "import torch\n",
    "import torchvision\n",
    "import torch.nn as nn\n",
    "import torchvision.transforms as transforms\n",
    "import time\n",
    "from torch.optim.lr_scheduler import MultiStepLR\n",
    "device = torch.device ('cuda' if torch.cuda.is_available() else 'cpu')\n",
    "print(f'Using {device}.')\n"
   ]
  },
  {
   "cell_type": "markdown",
   "metadata": {
    "id": "9tpQq-jEWrh9"
   },
   "source": [
    "**Dataset**\n",
    "\n",
    "The CIFAR-10 dataset is composed of 60000 small (3 × 32 × 32) color images in 10 classes, with 6000 images per class.\n",
    "(classes: airplane, automobile, bird, cat, deer, dog, frog, horse, ship, truck)\n",
    "Training Dataset : 50000 ( 5 training Batch, each with 10000 images )\n",
    "Testing Dataset : 10000 (1 Test Batch )\n",
    "\n",
    "Created a DataLoader for the training dataset and a DataLoader for the testing dataset, with the selected number of Batch Size. "
   ]
  },
  {
   "cell_type": "markdown",
   "metadata": {},
   "source": [
    "**Data augmentation on training data :**\n",
    "\n",
    "**transforms.RandomHorizontalFlip():** Randomly flips the images horizontally, which effectively doubles the variety of horizontal orientations in the dataset.\n",
    "\n",
    "**transforms.ColorJitter(brightness=0.2, contrast=0.2, saturation=0.2, hue=0.1)** transformation randomly adjusts the brightness, contrast, saturation, and hue of images to enhance data variability and model robustness during training.\n",
    "\n"
   ]
  },
  {
   "cell_type": "code",
   "execution_count": 90,
   "metadata": {},
   "outputs": [],
   "source": [
    "def load_data_CIFAR10(batch_size, resize=None):\n",
    "    # Download the CIFAR-10 dataset and then load it into memory\n",
    "    \n",
    "    # Define the transformations\n",
    "    if resize:\n",
    "        train_trans = [transforms.RandomHorizontalFlip(p=0.5),transforms.ColorJitter(brightness=0.2, contrast=0.2, saturation=0.2, hue=0.1), transforms.ToTensor()]\n",
    " \n",
    "        test_trans = [transforms.ToTensor()]\n",
    "    else:\n",
    "        train_trans = [transforms.RandomHorizontalFlip(p=0.5), transforms.ColorJitter(brightness=0.2, contrast=0.2, saturation=0.2, hue=0.1), transforms.ToTensor()]\n",
    "\n",
    "        test_trans = [transforms.ToTensor()]\n",
    "\n",
    "    # Compose the transformations\n",
    "    train_transforms = transforms.Compose(train_trans)\n",
    "    test_transforms = transforms.Compose(test_trans)\n",
    "\n",
    "    # Load the CIFAR-10 dataset with the transformations\n",
    "    train = torchvision.datasets.CIFAR10(root=\"../data\", train=True, transform=train_transforms, download=True)\n",
    "    test = torchvision.datasets.CIFAR10(root=\"../data\", train=False, transform=test_transforms, download=True)\n",
    "\n",
    "    # Return the dataloaders\n",
    "    return (torch.utils.data.DataLoader(train, batch_size, shuffle=True, num_workers=2),\n",
    "            torch.utils.data.DataLoader(test, batch_size, shuffle=False, num_workers=2))\n"
   ]
  },
  {
   "cell_type": "code",
   "execution_count": 91,
   "metadata": {
    "colab": {
     "base_uri": "https://localhost:8080/"
    },
    "id": "BTnbg1uKW1KX",
    "outputId": "77228ca1-71a0-4455-e684-f18f05aa8aaf"
   },
   "outputs": [
    {
     "name": "stdout",
     "output_type": "stream",
     "text": [
      "Files already downloaded and verified\n",
      "Files already downloaded and verified\n"
     ]
    }
   ],
   "source": [
    "# Defines the batch size\n",
    "batch_size = 50\n",
    "\n",
    "# Loads the fashion CIFAR-10 dataset. `train_iter` and `test_iter` are `DataLoader` objects.\n",
    "train_iter, test_iter = load_data_CIFAR10(batch_size, resize=(32,32))"
   ]
  },
  {
   "cell_type": "code",
   "execution_count": 92,
   "metadata": {
    "colab": {
     "base_uri": "https://localhost:8080/"
    },
    "id": "TCEdFy15W5SE",
    "outputId": "bbedd271-545b-453c-e1e2-a8f759ba2afa"
   },
   "outputs": [
    {
     "name": "stdout",
     "output_type": "stream",
     "text": [
      "torch.Size([50, 3, 32, 32])\n",
      "torch.Size([50])\n"
     ]
    }
   ],
   "source": [
    "# Requests the first training batch\n",
    "X, y = next(iter(train_iter))\n",
    "\n",
    "# 50 images per batch size defined above\n",
    "print(X.size())\n",
    "# Expected output for colored images: [50, 3, 32, 32]\n",
    "\n",
    "print(y.size())\n",
    "# Expected output: [50], representing 50 targets"
   ]
  },
  {
   "cell_type": "markdown",
   "metadata": {
    "id": "uV37K_4vXwP5"
   },
   "source": [
    "**Basic architecture**\n",
    "\n",
    "Implement the neural network architecture , which is composed of a sequence of intermediate blocks B1, B2, . . . , BK that are followed by an output block O"
   ]
  },
  {
   "cell_type": "markdown",
   "metadata": {},
   "source": [
    "* **Objective**: Implement a neural network architecture based on the described structure that inherits from `torch.nn.Module`.\n",
    "\n",
    "* **Input/Output**: The network processes a $1 \\times 32 \\times 32$ coloured image and outputs a 10-element vector representing class probabilities.\n",
    "\n"
   ]
  },
  {
   "cell_type": "markdown",
   "metadata": {
    "id": "6oKcySI2pE13"
   },
   "source": [
    "**Step 1: Define the Intermediate Block**\n",
    "Each intermediate block should contain multiple convolutional layers whose outputs are combined using coefficients derived from the input image's channel averages."
   ]
  },
  {
   "cell_type": "markdown",
   "metadata": {},
   "source": [
    "**NOTE:** Implemented My Neural Network Architecture Based on Basic Architecture"
   ]
  },
  {
   "cell_type": "code",
   "execution_count": 93,
   "metadata": {},
   "outputs": [],
   "source": [
    "class IntermediateBlock(nn.Module):\n",
    "    def __init__(self, in_channels, out_channels, num_layers,dropout_rate=0.5):\n",
    "        super(IntermediateBlock, self).__init__()\n",
    "        self.num_layers = num_layers\n",
    "        \n",
    "        self.conv_layers = nn.ModuleList()\n",
    "        self.activation = nn.ModuleList() \n",
    "        self.max_pool= nn.ModuleList() #Add Max pooling\n",
    "        self.batch_norm = nn.ModuleList() #Add batch normalisation\n",
    "        self.dropout = nn.ModuleList()  # Add a ModuleList for dropout layers\n",
    "        for _ in range(num_layers):\n",
    "            self.conv_layers.append(nn.Conv2d(in_channels, out_channels,kernel_size=6, padding=2))\n",
    "            self.activation.append(torch.nn.ReLU())\n",
    "            self.batch_norm.append(torch.nn.BatchNorm2d(out_channels))\n",
    "            self.max_pool.append(torch.nn.MaxPool2d(kernel_size=3,stride = 2, padding=1))\n",
    "            self.dropout.append(nn.Dropout(dropout_rate))  # Add dropout with the specified rate\n",
    "        \n",
    "        # Update the linear layer to match the out_channels of the conv layers\n",
    "        self.fc = nn.Linear(in_channels, num_layers)  \n",
    "        self.sigm = torch.nn.Sigmoid()\n",
    "\n",
    "    def forward(self, x):\n",
    "        m = torch.mean(x, dim=[2, 3])  # Average over spatial dimensions\n",
    "        \n",
    "        # spatial dimensions, m should now be [batch_size]\n",
    "        a = self.fc(m)\n",
    "        a = self.sigm(a)\n",
    "\n",
    "        conv_outputs = []\n",
    "   \n",
    "        for conv_layer,activation,max_pool,bn,dropout in zip(self.conv_layers,self.activation,self.max_pool,self.batch_norm,self.dropout):\n",
    "            conv_out = conv_layer(x)\n",
    "            conv_out = max_pool(conv_out)\n",
    "            conv_out = bn(conv_out)\n",
    "            conv_out = activation(conv_out)\n",
    "            conv_out = dropout(conv_out)  # Apply dropout after batch normalization\n",
    "            conv_outputs.append(conv_out)\n",
    "            \n",
    "        a = a.view(a.size(0), self.num_layers, 1, 1)\n",
    "        \n",
    "        x_prime = torch.sum(torch.stack([a[:, i].unsqueeze(1) * conv_outputs[i] \n",
    "                                         for i in range(self.num_layers)], dim=1), dim=1)\n",
    "        return x_prime\n"
   ]
  },
  {
   "cell_type": "markdown",
   "metadata": {
    "id": "aWoDQM1RpMUy"
   },
   "source": [
    "**Step 2: Define the Output Block**\n",
    "The output block takes the last intermediate block's output, processes it through fully connected layers, and produces the logits vector."
   ]
  },
  {
   "cell_type": "code",
   "execution_count": 94,
   "metadata": {
    "id": "IzKgtFr-pUsf"
   },
   "outputs": [],
   "source": [
    "class OutputBlock(nn.Module):\n",
    "    def __init__(self, in_channels, num_classes):\n",
    "        super(OutputBlock, self).__init__()\n",
    "        self.fc1 = nn.Linear(in_channels, num_classes)  \n",
    "        # self.sigm = torch.nn.Sigmoid()\n",
    "\n",
    "    def forward(self, x):\n",
    "        m = torch.mean(x, dim=[2, 3])  \n",
    "        o = self.fc1(m)  # Compute logits vector\n",
    "     \n",
    "        return o\n"
   ]
  },
  {
   "cell_type": "markdown",
   "metadata": {
    "id": "R25aKQYxpW81"
   },
   "source": [
    "**Step 3: Assemble the Complete Model**\n",
    "Now, we combine intermediate blocks and the output block into the final model."
   ]
  },
  {
   "cell_type": "code",
   "execution_count": 95,
   "metadata": {
    "id": "akOtaKfbpdyW"
   },
   "outputs": [],
   "source": [
    "class MyCIFAR10Net(nn.Module):\n",
    "    def __init__(self, num_classes):\n",
    "        super(MyCIFAR10Net, self).__init__()\n",
    "        # Define the sequence of blocks. \n",
    "        self.block1 = IntermediateBlock(3, 128, 3)   # Input: 3 channels, Output: 128 channels,  3 conv layers\n",
    "        self.block2 = IntermediateBlock(128, 64, 3) # Input: 128 channels (from block1), Output: 64 channels ,  3 conv layers\n",
    "        self.block3 = IntermediateBlock(64, 32, 3)  # Example: 3 conv layers, input: 64 channels, output: 32 channels\n",
    "        self.output_block = OutputBlock(32, num_classes)\n",
    "\n",
    "    def forward(self, x):\n",
    "        x = self.block1(x)\n",
    "        x = self.block2(x)\n",
    "        x = self.block3(x)\n",
    "        logits = self.output_block(x)\n",
    "        return logits\n"
   ]
  },
  {
   "cell_type": "markdown",
   "metadata": {},
   "source": [
    "**Applies Xavier initialization if the `torch.nn.Module` is `torch.nn.Linear` or `torch.nn.Conv2d`**"
   ]
  },
  {
   "cell_type": "code",
   "execution_count": 96,
   "metadata": {},
   "outputs": [],
   "source": [
    "# Applies Xavier initialization if the `torch.nn.Module` is `torch.nn.Linear` or `torch.nn.Conv2d`\n",
    "def init_weights(m):\n",
    "    if type(m) == torch.nn.Linear or type(m) == torch.nn.Conv2d:\n",
    "        torch.nn.init.xavier_uniform_(m.weight)"
   ]
  },
  {
   "cell_type": "markdown",
   "metadata": {},
   "source": [
    "**Final Model after experimenting with hyperparameters**"
   ]
  },
  {
   "cell_type": "code",
   "execution_count": 97,
   "metadata": {
    "id": "u6a9F6wJ2ukV"
   },
   "outputs": [
    {
     "data": {
      "text/plain": [
       "MyCIFAR10Net(\n",
       "  (block1): IntermediateBlock(\n",
       "    (conv_layers): ModuleList(\n",
       "      (0-2): 3 x Conv2d(3, 128, kernel_size=(6, 6), stride=(1, 1), padding=(2, 2))\n",
       "    )\n",
       "    (activation): ModuleList(\n",
       "      (0-2): 3 x ReLU()\n",
       "    )\n",
       "    (max_pool): ModuleList(\n",
       "      (0-2): 3 x MaxPool2d(kernel_size=3, stride=2, padding=1, dilation=1, ceil_mode=False)\n",
       "    )\n",
       "    (batch_norm): ModuleList(\n",
       "      (0-2): 3 x BatchNorm2d(128, eps=1e-05, momentum=0.1, affine=True, track_running_stats=True)\n",
       "    )\n",
       "    (dropout): ModuleList(\n",
       "      (0-2): 3 x Dropout(p=0.5, inplace=False)\n",
       "    )\n",
       "    (fc): Linear(in_features=3, out_features=3, bias=True)\n",
       "    (sigm): Sigmoid()\n",
       "  )\n",
       "  (block2): IntermediateBlock(\n",
       "    (conv_layers): ModuleList(\n",
       "      (0-2): 3 x Conv2d(128, 64, kernel_size=(6, 6), stride=(1, 1), padding=(2, 2))\n",
       "    )\n",
       "    (activation): ModuleList(\n",
       "      (0-2): 3 x ReLU()\n",
       "    )\n",
       "    (max_pool): ModuleList(\n",
       "      (0-2): 3 x MaxPool2d(kernel_size=3, stride=2, padding=1, dilation=1, ceil_mode=False)\n",
       "    )\n",
       "    (batch_norm): ModuleList(\n",
       "      (0-2): 3 x BatchNorm2d(64, eps=1e-05, momentum=0.1, affine=True, track_running_stats=True)\n",
       "    )\n",
       "    (dropout): ModuleList(\n",
       "      (0-2): 3 x Dropout(p=0.5, inplace=False)\n",
       "    )\n",
       "    (fc): Linear(in_features=128, out_features=3, bias=True)\n",
       "    (sigm): Sigmoid()\n",
       "  )\n",
       "  (block3): IntermediateBlock(\n",
       "    (conv_layers): ModuleList(\n",
       "      (0-2): 3 x Conv2d(64, 32, kernel_size=(6, 6), stride=(1, 1), padding=(2, 2))\n",
       "    )\n",
       "    (activation): ModuleList(\n",
       "      (0-2): 3 x ReLU()\n",
       "    )\n",
       "    (max_pool): ModuleList(\n",
       "      (0-2): 3 x MaxPool2d(kernel_size=3, stride=2, padding=1, dilation=1, ceil_mode=False)\n",
       "    )\n",
       "    (batch_norm): ModuleList(\n",
       "      (0-2): 3 x BatchNorm2d(32, eps=1e-05, momentum=0.1, affine=True, track_running_stats=True)\n",
       "    )\n",
       "    (dropout): ModuleList(\n",
       "      (0-2): 3 x Dropout(p=0.5, inplace=False)\n",
       "    )\n",
       "    (fc): Linear(in_features=64, out_features=3, bias=True)\n",
       "    (sigm): Sigmoid()\n",
       "  )\n",
       "  (output_block): OutputBlock(\n",
       "    (fc1): Linear(in_features=32, out_features=10, bias=True)\n",
       "  )\n",
       ")"
      ]
     },
     "execution_count": 97,
     "metadata": {},
     "output_type": "execute_result"
    }
   ],
   "source": [
    "# Call final Model\n",
    "FinalModel = MyCIFAR10Net(10).to(device)\n",
    "FinalModel.apply(init_weights)"
   ]
  },
  {
   "cell_type": "markdown",
   "metadata": {},
   "source": [
    "**Cross-entropy loss function :**\n",
    "\n",
    "* The *convolutional neural network* defined above computes the logits matrix $\\mathbf{O}$\n",
    "\n",
    "* This is because PyTorch provides a class called `CrossEntropyLoss` that implements the desired cross entropy loss but requires a logits matrix $\\mathbf{O}$ instead of the prediction matrix $\\mathbf{\\hat{Y}}$.\n",
    "\n",
    "* The class `CrossEntropyLoss` implements the cross entropy loss in a way that avoids numerical instabilities that would result from a naive implementation."
   ]
  },
  {
   "cell_type": "code",
   "execution_count": 98,
   "metadata": {
    "id": "wgK8QkHW27xP"
   },
   "outputs": [],
   "source": [
    "# cross-entropy loss function\n",
    "loss = torch.nn.CrossEntropyLoss()"
   ]
  },
  {
   "cell_type": "markdown",
   "metadata": {},
   "source": [
    "**Optimization Algorithm :**\n",
    "\n",
    "* I employed Adam optimier with a learning rate of $0.03$ as the optimization algorithm.\n",
    "\n",
    "* implemented a subclass of `torch.nn.Module`, the model parameters can be accessed through the method `parameters`."
   ]
  },
  {
   "cell_type": "code",
   "execution_count": 99,
   "metadata": {
    "id": "JeV766de270D"
   },
   "outputs": [],
   "source": [
    "# Learning Rate(lr) and Optimizer\n",
    "lr = 0.003\n",
    "\n",
    "# Choosing Adam as optimizer \n",
    "optimizer = torch.optim.Adam(FinalModel.parameters(), lr=lr)\n",
    "\n",
    "#The `scheduler` uses `MultiStepLR` to adjust the learning rate of the `optimizer` by a factor of `0.8`.\n",
    "steps = [15,25,40]\n",
    "scheduler = MultiStepLR(optimizer,milestones = steps, gamma = 0.8)"
   ]
  },
  {
   "cell_type": "markdown",
   "metadata": {
    "id": "u3mXrDre8OSA"
   },
   "source": [
    "**Evaluation :**\n",
    "\n",
    "**Function correct(logits, y)** takes the logits from model and the true labels y.\n",
    "It uses argmax to find the predicted class and compares it to the true labels to compute the accuracy and calculates the number of correct predictions."
   ]
  },
  {
   "cell_type": "code",
   "execution_count": 100,
   "metadata": {
    "id": "_DzxVrmM272h"
   },
   "outputs": [],
   "source": [
    "def correct(logits, y):\n",
    "    y_hat = logits.argmax(axis=1) # Finds the column with the highest value for each row of `logits`.\n",
    "    return (y_hat == y).float().sum() # Computes the number of times that `y_hat` and `y` match.\n"
   ]
  },
  {
   "cell_type": "markdown",
   "metadata": {
    "id": "qpQe12oY8dqq"
   },
   "source": [
    "**Function evaluate_metric(model, data_iter, metric)** : This function appears to be set up for computing the average of a metric over a dataset.It iterates through the data loader, calculates logits, and applies a provided metric function to the logits and true labels. The metric in c and the number of samples in n, then return the average metric.\n",
    "\n",
    "The metric function passed to evaluate_metric should be designed to return a scalar value for the metric being evaluated.\n"
   ]
  },
  {
   "cell_type": "code",
   "execution_count": 101,
   "metadata": {
    "id": "1Ffu0rL_4Kgv"
   },
   "outputs": [],
   "source": [
    "def evaluate_metric(model, data_iter, metric):\n",
    "    # Compute the average `metric` of the model on a dataset.\n",
    "    c = torch.tensor(0.,device = device)\n",
    "    n = torch.tensor(0.,device = device)\n",
    "    for i, data in enumerate(data_iter , 0):\n",
    "      inputs, label = data[0].to(device), data[1].to(device)\n",
    "      logits = model(inputs)\n",
    "      c += metric(logits, label)\n",
    "      n += len(label)\n",
    "    return c / n"
   ]
  },
  {
   "cell_type": "markdown",
   "metadata": {},
   "source": [
    "**Training and Testing**"
   ]
  },
  {
   "cell_type": "code",
   "execution_count": 102,
   "metadata": {
    "colab": {
     "base_uri": "https://localhost:8080/"
    },
    "id": "PUzftzd02745",
    "outputId": "13463740-5921-478e-c7cc-b76a58f9443c"
   },
   "outputs": [
    {
     "name": "stdout",
     "output_type": "stream",
     "text": [
      "Training accuracy: 0.10000000149011612. Testing accuracy: 0.10000000149011612.\n"
     ]
    }
   ],
   "source": [
    "# Intial Train and Test Accuracy\n",
    "FinalModel.eval()\n",
    "print(f'Training accuracy: {evaluate_metric(FinalModel, train_iter, correct)}. Testing accuracy: {evaluate_metric(FinalModel, test_iter, correct)}.')"
   ]
  },
  {
   "cell_type": "markdown",
   "metadata": {},
   "source": [
    "* The following code implements the training loop for the convolutional neural network.\n",
    "\n",
    "* The training/testing dataset accuracy is displayed after each epoch and stored for plotting."
   ]
  },
  {
   "cell_type": "code",
   "execution_count": 103,
   "metadata": {
    "colab": {
     "base_uri": "https://localhost:8080/"
    },
    "id": "1kz6qVKugvLQ",
    "outputId": "00972146-4755-48e8-a510-c5158dfaa27c"
   },
   "outputs": [
    {
     "name": "stdout",
     "output_type": "stream",
     "text": [
      "\n",
      "Epoch 1/50.\n",
      "Training accuracy: 0.40202000737190247. Testing accuracy: 0.40860000252723694. Duration: 33.005s.\n",
      "\n",
      "Epoch 2/50.\n",
      "Training accuracy: 0.6850000023841858. Testing accuracy: 0.683899998664856. Duration: 35.158s.\n",
      "\n",
      "Epoch 3/50.\n",
      "Training accuracy: 0.6883999705314636. Testing accuracy: 0.6850000023841858. Duration: 33.353s.\n",
      "\n",
      "Epoch 4/50.\n",
      "Training accuracy: 0.7600200176239014. Testing accuracy: 0.7544000148773193. Duration: 33.582s.\n",
      "\n",
      "Epoch 5/50.\n",
      "Training accuracy: 0.7557399868965149. Testing accuracy: 0.7491999864578247. Duration: 33.362s.\n",
      "\n",
      "Epoch 6/50.\n",
      "Training accuracy: 0.7875800132751465. Testing accuracy: 0.7756999731063843. Duration: 34.971s.\n",
      "\n",
      "Epoch 7/50.\n",
      "Training accuracy: 0.7914000153541565. Testing accuracy: 0.7781999707221985. Duration: 31.718s.\n",
      "\n",
      "Epoch 8/50.\n",
      "Training accuracy: 0.8030800223350525. Testing accuracy: 0.7865999937057495. Duration: 33.134s.\n",
      "\n",
      "Epoch 9/50.\n",
      "Training accuracy: 0.8118199706077576. Testing accuracy: 0.7907999753952026. Duration: 32.530s.\n",
      "\n",
      "Epoch 10/50.\n",
      "Training accuracy: 0.8150799870491028. Testing accuracy: 0.7870000004768372. Duration: 32.455s.\n",
      "\n",
      "Epoch 11/50.\n",
      "Training accuracy: 0.7899399995803833. Testing accuracy: 0.7663999795913696. Duration: 31.979s.\n",
      "\n",
      "Epoch 12/50.\n",
      "Training accuracy: 0.8062400221824646. Testing accuracy: 0.7802000045776367. Duration: 31.232s.\n",
      "\n",
      "Epoch 13/50.\n",
      "Training accuracy: 0.843720018863678. Testing accuracy: 0.8154000043869019. Duration: 33.701s.\n",
      "\n",
      "Epoch 14/50.\n",
      "Training accuracy: 0.8075600266456604. Testing accuracy: 0.7797999978065491. Duration: 31.661s.\n",
      "\n",
      "Epoch 15/50.\n",
      "Training accuracy: 0.7745400071144104. Testing accuracy: 0.7548999786376953. Duration: 33.459s.\n",
      "\n",
      "Epoch 16/50.\n",
      "Training accuracy: 0.8253999948501587. Testing accuracy: 0.7910000085830688. Duration: 32.887s.\n",
      "\n",
      "Epoch 17/50.\n",
      "Training accuracy: 0.8629800081253052. Testing accuracy: 0.8252000212669373. Duration: 32.998s.\n",
      "\n",
      "Epoch 18/50.\n",
      "Training accuracy: 0.8819800019264221. Testing accuracy: 0.8348000049591064. Duration: 33.598s.\n",
      "\n",
      "Epoch 19/50.\n",
      "Training accuracy: 0.8812199831008911. Testing accuracy: 0.833899974822998. Duration: 34.979s.\n",
      "\n",
      "Epoch 20/50.\n",
      "Training accuracy: 0.8788599967956543. Testing accuracy: 0.8335000276565552. Duration: 33.333s.\n",
      "\n",
      "Epoch 21/50.\n",
      "Training accuracy: 0.8903399705886841. Testing accuracy: 0.8449000120162964. Duration: 34.934s.\n",
      "\n",
      "Epoch 22/50.\n",
      "Training accuracy: 0.8411399722099304. Testing accuracy: 0.7994999885559082. Duration: 33.663s.\n",
      "\n",
      "Epoch 23/50.\n",
      "Training accuracy: 0.8946800231933594. Testing accuracy: 0.8396999835968018. Duration: 34.917s.\n",
      "\n",
      "Epoch 24/50.\n",
      "Training accuracy: 0.8877000212669373. Testing accuracy: 0.8335999846458435. Duration: 34.362s.\n",
      "\n",
      "Epoch 25/50.\n",
      "Training accuracy: 0.8851000070571899. Testing accuracy: 0.8324000239372253. Duration: 34.821s.\n",
      "\n",
      "Epoch 26/50.\n",
      "Training accuracy: 0.8758000135421753. Testing accuracy: 0.8259999752044678. Duration: 34.380s.\n",
      "\n",
      "Epoch 27/50.\n",
      "Training accuracy: 0.8989599943161011. Testing accuracy: 0.8366000056266785. Duration: 32.784s.\n",
      "\n",
      "Epoch 28/50.\n",
      "Training accuracy: 0.90420001745224. Testing accuracy: 0.8453999757766724. Duration: 33.715s.\n",
      "\n",
      "Epoch 29/50.\n",
      "Training accuracy: 0.9104400277137756. Testing accuracy: 0.8503999710083008. Duration: 33.398s.\n",
      "\n",
      "Epoch 30/50.\n",
      "Training accuracy: 0.9038800001144409. Testing accuracy: 0.8406999707221985. Duration: 34.283s.\n",
      "\n",
      "Epoch 31/50.\n",
      "Training accuracy: 0.9020000100135803. Testing accuracy: 0.8418999910354614. Duration: 33.808s.\n",
      "\n",
      "Epoch 32/50.\n",
      "Training accuracy: 0.918720006942749. Testing accuracy: 0.8529999852180481. Duration: 34.884s.\n",
      "\n",
      "Epoch 33/50.\n",
      "Training accuracy: 0.9123600125312805. Testing accuracy: 0.8500000238418579. Duration: 35.796s.\n",
      "\n",
      "Epoch 34/50.\n",
      "Training accuracy: 0.9162600040435791. Testing accuracy: 0.8499000072479248. Duration: 33.884s.\n",
      "\n",
      "Epoch 35/50.\n",
      "Training accuracy: 0.9041600227355957. Testing accuracy: 0.84170001745224. Duration: 34.990s.\n",
      "\n",
      "Epoch 36/50.\n",
      "Training accuracy: 0.9211999773979187. Testing accuracy: 0.8511999845504761. Duration: 35.610s.\n",
      "\n",
      "Epoch 37/50.\n",
      "Training accuracy: 0.911080002784729. Testing accuracy: 0.84170001745224. Duration: 35.893s.\n",
      "\n",
      "Epoch 38/50.\n",
      "Training accuracy: 0.9203199744224548. Testing accuracy: 0.8514999747276306. Duration: 35.240s.\n",
      "\n",
      "Epoch 39/50.\n",
      "Training accuracy: 0.9190999865531921. Testing accuracy: 0.8500000238418579. Duration: 35.445s.\n",
      "\n",
      "Epoch 40/50.\n",
      "Training accuracy: 0.9164000153541565. Testing accuracy: 0.8503000140190125. Duration: 36.133s.\n",
      "\n",
      "Epoch 41/50.\n",
      "Training accuracy: 0.935920000076294. Testing accuracy: 0.8579000234603882. Duration: 35.812s.\n",
      "\n",
      "Epoch 42/50.\n",
      "Training accuracy: 0.9157000184059143. Testing accuracy: 0.845300018787384. Duration: 36.016s.\n",
      "\n",
      "Epoch 43/50.\n",
      "Training accuracy: 0.9298999905586243. Testing accuracy: 0.8497999906539917. Duration: 33.211s.\n",
      "\n",
      "Epoch 44/50.\n",
      "Training accuracy: 0.9373400211334229. Testing accuracy: 0.8607000112533569. Duration: 36.083s.\n",
      "\n",
      "Epoch 45/50.\n",
      "Training accuracy: 0.932479977607727. Testing accuracy: 0.8572999835014343. Duration: 33.535s.\n",
      "\n",
      "Epoch 46/50.\n",
      "Training accuracy: 0.9367799758911133. Testing accuracy: 0.8580999970436096. Duration: 35.366s.\n",
      "\n",
      "Epoch 47/50.\n",
      "Training accuracy: 0.932479977607727. Testing accuracy: 0.8497999906539917. Duration: 35.701s.\n",
      "\n",
      "Epoch 48/50.\n",
      "Training accuracy: 0.9372000098228455. Testing accuracy: 0.858299970626831. Duration: 35.045s.\n",
      "\n",
      "Epoch 49/50.\n",
      "Training accuracy: 0.9288399815559387. Testing accuracy: 0.852400004863739. Duration: 32.638s.\n",
      "\n",
      "Epoch 50/50.\n",
      "Training accuracy: 0.9405800104141235. Testing accuracy: 0.8614000082015991. Duration: 32.668s.\n"
     ]
    },
    {
     "data": {
      "image/png": "[encoded data removed]",
      "text/plain": [
       "<Figure size 640x480 with 1 Axes>"
      ]
     },
     "metadata": {},
     "output_type": "display_data"
    },
    {
     "data": {
      "image/png": "[encoded data removed]",
      "text/plain": [
       "<Figure size 640x480 with 1 Axes>"
      ]
     },
     "metadata": {},
     "output_type": "display_data"
    }
   ],
   "source": [
    "losses = [] # Stores the loss for each training batch\n",
    "train_accs = [] # Stores the training accuracy after each epoch\n",
    "test_accs = [] # Stores the testing accuracy after each epoch\n",
    "\n",
    "num_epochs = 50\n",
    "for epoch in range(num_epochs):\n",
    "    print(f'\\nEpoch {epoch + 1}/{num_epochs}.')\n",
    "    start_time = time.perf_counter()\n",
    "\n",
    "    FinalModel.train() \n",
    "\n",
    "    for X, y in train_iter:\n",
    "        X, y = X.to(device), y.to(device) # Moves data to `device`\n",
    "        logits = FinalModel(X) # Computes the logits for the batch of images `X`\n",
    "\n",
    "        l = loss(logits, y) # Computes the loss given the `logits` and the class vector `y`\n",
    "        optimizer.zero_grad() # Zeroes the gradients stored in the model parameters\n",
    "        l.backward() # Computes the gradient of the loss `l` with respect to the model parameters\n",
    "\n",
    "        optimizer.step() # Updates the model parameters based on the gradients stored inside them\n",
    "\n",
    "        losses.append(float(l)) # Stores the loss for this batch\n",
    "    scheduler.step()\n",
    "\n",
    "    with torch.no_grad(): # Computing performance metrics does not require gradients\n",
    "        FinalModel.eval() # This is necessary because batch normalization behaves differently between training and evaluation\n",
    "        train_accs.append(evaluate_metric(FinalModel, train_iter, correct))\n",
    "        test_accs.append(evaluate_metric(FinalModel, test_iter, correct))\n",
    "\n",
    "        end_time = time.perf_counter()\n",
    "\n",
    "        print(f'Training accuracy: {train_accs[-1]}. Testing accuracy: {test_accs[-1]}. Duration: {end_time - start_time:.3f}s.') # Computes and displays training/testing dataset accuracy.\n",
    "\n",
    "\n",
    "\n",
    "\n",
    "plt.plot(losses) # Plots the loss for each training batch\n",
    "plt.xlabel('Training batch')\n",
    "plt.ylabel('Cross entropy loss')\n",
    "plt.show()\n",
    "\n",
    "\n",
    "plt.plot([t.cpu() for t in train_accs], label='Training accuracy')\n",
    "plt.plot([t.cpu() for t in test_accs], label='Testing accuracy')\n",
    "\n",
    "\n",
    "plt.legend(loc='best')\n",
    "plt.xlabel('Epoch')\n",
    "plt.show()"
   ]
  }
 ],
 "metadata": {
  "accelerator": "GPU",
  "colab": {
   "gpuType": "T4",
   "provenance": []
  },
  "kernelspec": {
   "display_name": "Python 3 (ipykernel)",
   "language": "python",
   "name": "python3"
  },
  "language_info": {
   "codemirror_mode": {
    "name": "ipython",
    "version": 3
   },
   "file_extension": ".py",
   "mimetype": "text/x-python",
   "name": "python",
   "nbconvert_exporter": "python",
   "pygments_lexer": "ipython3",
   "version": "3.11.7"
  }
 },
 "nbformat": 4,
 "nbformat_minor": 4
}
